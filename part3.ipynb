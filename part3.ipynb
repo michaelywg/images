{
  "nbformat": 4,
  "nbformat_minor": 0,
  "metadata": {
    "colab": {
      "name": "part3.ipynb",
      "provenance": [],
      "collapsed_sections": [],
      "authorship_tag": "ABX9TyOVAfzIxP2tPKrJkd2TVSLV",
      "include_colab_link": true
    },
    "kernelspec": {
      "name": "python3",
      "display_name": "Python 3"
    },
    "accelerator": "GPU",
    "widgets": {
      "application/vnd.jupyter.widget-state+json": {
        "7b37c4f5741241bca51c4528fa41d392": {
          "model_module": "@jupyter-widgets/controls",
          "model_name": "HBoxModel",
          "state": {
            "_view_name": "HBoxView",
            "_dom_classes": [],
            "_model_name": "HBoxModel",
            "_view_module": "@jupyter-widgets/controls",
            "_model_module_version": "1.5.0",
            "_view_count": null,
            "_view_module_version": "1.5.0",
            "box_style": "",
            "layout": "IPY_MODEL_0248b84cb9ca446a849904ea7e61a8e1",
            "_model_module": "@jupyter-widgets/controls",
            "children": [
              "IPY_MODEL_7b10d954d74a4ed0ac631947ea4c8edf",
              "IPY_MODEL_2884ad9b0ac84c0b84cf5de9b835f181"
            ]
          }
        },
        "0248b84cb9ca446a849904ea7e61a8e1": {
          "model_module": "@jupyter-widgets/base",
          "model_name": "LayoutModel",
          "state": {
            "_view_name": "LayoutView",
            "grid_template_rows": null,
            "right": null,
            "justify_content": null,
            "_view_module": "@jupyter-widgets/base",
            "overflow": null,
            "_model_module_version": "1.2.0",
            "_view_count": null,
            "flex_flow": null,
            "width": null,
            "min_width": null,
            "border": null,
            "align_items": null,
            "bottom": null,
            "_model_module": "@jupyter-widgets/base",
            "top": null,
            "grid_column": null,
            "overflow_y": null,
            "overflow_x": null,
            "grid_auto_flow": null,
            "grid_area": null,
            "grid_template_columns": null,
            "flex": null,
            "_model_name": "LayoutModel",
            "justify_items": null,
            "grid_row": null,
            "max_height": null,
            "align_content": null,
            "visibility": null,
            "align_self": null,
            "height": null,
            "min_height": null,
            "padding": null,
            "grid_auto_rows": null,
            "grid_gap": null,
            "max_width": null,
            "order": null,
            "_view_module_version": "1.2.0",
            "grid_template_areas": null,
            "object_position": null,
            "object_fit": null,
            "grid_auto_columns": null,
            "margin": null,
            "display": null,
            "left": null
          }
        },
        "7b10d954d74a4ed0ac631947ea4c8edf": {
          "model_module": "@jupyter-widgets/controls",
          "model_name": "FloatProgressModel",
          "state": {
            "_view_name": "ProgressView",
            "style": "IPY_MODEL_f1f76ebb32004753833ddf38bd38393a",
            "_dom_classes": [],
            "description": "100%",
            "_model_name": "FloatProgressModel",
            "bar_style": "success",
            "max": 46827520,
            "_view_module": "@jupyter-widgets/controls",
            "_model_module_version": "1.5.0",
            "value": 46827520,
            "_view_count": null,
            "_view_module_version": "1.5.0",
            "orientation": "horizontal",
            "min": 0,
            "description_tooltip": null,
            "_model_module": "@jupyter-widgets/controls",
            "layout": "IPY_MODEL_e99b343928be4961877e899e80e2be57"
          }
        },
        "2884ad9b0ac84c0b84cf5de9b835f181": {
          "model_module": "@jupyter-widgets/controls",
          "model_name": "HTMLModel",
          "state": {
            "_view_name": "HTMLView",
            "style": "IPY_MODEL_6e584c47ffa5402da095bb9e8fc79a0d",
            "_dom_classes": [],
            "description": "",
            "_model_name": "HTMLModel",
            "placeholder": "​",
            "_view_module": "@jupyter-widgets/controls",
            "_model_module_version": "1.5.0",
            "value": " 44.7M/44.7M [00:03&lt;00:00, 12.2MB/s]",
            "_view_count": null,
            "_view_module_version": "1.5.0",
            "description_tooltip": null,
            "_model_module": "@jupyter-widgets/controls",
            "layout": "IPY_MODEL_d18c3bd8a6484c3ba6a793bf364af22c"
          }
        },
        "f1f76ebb32004753833ddf38bd38393a": {
          "model_module": "@jupyter-widgets/controls",
          "model_name": "ProgressStyleModel",
          "state": {
            "_view_name": "StyleView",
            "_model_name": "ProgressStyleModel",
            "description_width": "initial",
            "_view_module": "@jupyter-widgets/base",
            "_model_module_version": "1.5.0",
            "_view_count": null,
            "_view_module_version": "1.2.0",
            "bar_color": null,
            "_model_module": "@jupyter-widgets/controls"
          }
        },
        "e99b343928be4961877e899e80e2be57": {
          "model_module": "@jupyter-widgets/base",
          "model_name": "LayoutModel",
          "state": {
            "_view_name": "LayoutView",
            "grid_template_rows": null,
            "right": null,
            "justify_content": null,
            "_view_module": "@jupyter-widgets/base",
            "overflow": null,
            "_model_module_version": "1.2.0",
            "_view_count": null,
            "flex_flow": null,
            "width": null,
            "min_width": null,
            "border": null,
            "align_items": null,
            "bottom": null,
            "_model_module": "@jupyter-widgets/base",
            "top": null,
            "grid_column": null,
            "overflow_y": null,
            "overflow_x": null,
            "grid_auto_flow": null,
            "grid_area": null,
            "grid_template_columns": null,
            "flex": null,
            "_model_name": "LayoutModel",
            "justify_items": null,
            "grid_row": null,
            "max_height": null,
            "align_content": null,
            "visibility": null,
            "align_self": null,
            "height": null,
            "min_height": null,
            "padding": null,
            "grid_auto_rows": null,
            "grid_gap": null,
            "max_width": null,
            "order": null,
            "_view_module_version": "1.2.0",
            "grid_template_areas": null,
            "object_position": null,
            "object_fit": null,
            "grid_auto_columns": null,
            "margin": null,
            "display": null,
            "left": null
          }
        },
        "6e584c47ffa5402da095bb9e8fc79a0d": {
          "model_module": "@jupyter-widgets/controls",
          "model_name": "DescriptionStyleModel",
          "state": {
            "_view_name": "StyleView",
            "_model_name": "DescriptionStyleModel",
            "description_width": "",
            "_view_module": "@jupyter-widgets/base",
            "_model_module_version": "1.5.0",
            "_view_count": null,
            "_view_module_version": "1.2.0",
            "_model_module": "@jupyter-widgets/controls"
          }
        },
        "d18c3bd8a6484c3ba6a793bf364af22c": {
          "model_module": "@jupyter-widgets/base",
          "model_name": "LayoutModel",
          "state": {
            "_view_name": "LayoutView",
            "grid_template_rows": null,
            "right": null,
            "justify_content": null,
            "_view_module": "@jupyter-widgets/base",
            "overflow": null,
            "_model_module_version": "1.2.0",
            "_view_count": null,
            "flex_flow": null,
            "width": null,
            "min_width": null,
            "border": null,
            "align_items": null,
            "bottom": null,
            "_model_module": "@jupyter-widgets/base",
            "top": null,
            "grid_column": null,
            "overflow_y": null,
            "overflow_x": null,
            "grid_auto_flow": null,
            "grid_area": null,
            "grid_template_columns": null,
            "flex": null,
            "_model_name": "LayoutModel",
            "justify_items": null,
            "grid_row": null,
            "max_height": null,
            "align_content": null,
            "visibility": null,
            "align_self": null,
            "height": null,
            "min_height": null,
            "padding": null,
            "grid_auto_rows": null,
            "grid_gap": null,
            "max_width": null,
            "order": null,
            "_view_module_version": "1.2.0",
            "grid_template_areas": null,
            "object_position": null,
            "object_fit": null,
            "grid_auto_columns": null,
            "margin": null,
            "display": null,
            "left": null
          }
        }
      }
    }
  },
  "cells": [
    {
      "cell_type": "markdown",
      "metadata": {
        "id": "view-in-github",
        "colab_type": "text"
      },
      "source": [
        "<a href=\"https://colab.research.google.com/github/michaelywg/images/blob/master/part3.ipynb\" target=\"_parent\"><img src=\"https://colab.research.google.com/assets/colab-badge.svg\" alt=\"Open In Colab\"/></a>"
      ]
    },
    {
      "cell_type": "markdown",
      "metadata": {
        "id": "EZq3a9GpOm00"
      },
      "source": [
        "## Part 3: Train With Larger Dataset"
      ]
    },
    {
      "cell_type": "markdown",
      "metadata": {
        "id": "eyOoNCm5VV4w"
      },
      "source": [
        "First, let's load in the dataset and a pre-trained model to build off of."
      ]
    },
    {
      "cell_type": "code",
      "metadata": {
        "id": "SNxp5OHxN9af"
      },
      "source": [
        "# Load in the training and validation data\n",
        "%%capture\n",
        "import os \n",
        "if not os.path.exists('/content/ibug_300W_large_face_landmark_dataset'):\n",
        "    !wget https://people.eecs.berkeley.edu/~zhecao/ibug_300W_large_face_landmark_dataset.zip\n",
        "    !unzip 'ibug_300W_large_face_landmark_dataset.zip'    \n",
        "    !rm -r 'ibug_300W_large_face_landmark_dataset.zip'"
      ],
      "execution_count": 2,
      "outputs": []
    },
    {
      "cell_type": "code",
      "metadata": {
        "id": "QdVOMcGPQVPd",
        "outputId": "015eb44e-d584-4f5b-d137-70260b14f649",
        "colab": {
          "base_uri": "https://localhost:8080/",
          "height": 83,
          "referenced_widgets": [
            "7b37c4f5741241bca51c4528fa41d392",
            "0248b84cb9ca446a849904ea7e61a8e1",
            "7b10d954d74a4ed0ac631947ea4c8edf",
            "2884ad9b0ac84c0b84cf5de9b835f181",
            "f1f76ebb32004753833ddf38bd38393a",
            "e99b343928be4961877e899e80e2be57",
            "6e584c47ffa5402da095bb9e8fc79a0d",
            "d18c3bd8a6484c3ba6a793bf364af22c"
          ]
        }
      },
      "source": [
        "#import a pre-trained resnet18 model\n",
        "import torchvision.models as models\n",
        "resnet18 = models.resnet18(pretrained=True)"
      ],
      "execution_count": 3,
      "outputs": [
        {
          "output_type": "stream",
          "text": [
            "Downloading: \"https://download.pytorch.org/models/resnet18-5c106cde.pth\" to /root/.cache/torch/hub/checkpoints/resnet18-5c106cde.pth\n"
          ],
          "name": "stderr"
        },
        {
          "output_type": "display_data",
          "data": {
            "application/vnd.jupyter.widget-view+json": {
              "model_id": "7b37c4f5741241bca51c4528fa41d392",
              "version_minor": 0,
              "version_major": 2
            },
            "text/plain": [
              "HBox(children=(FloatProgress(value=0.0, max=46827520.0), HTML(value='')))"
            ]
          },
          "metadata": {
            "tags": []
          }
        },
        {
          "output_type": "stream",
          "text": [
            "\n"
          ],
          "name": "stdout"
        }
      ]
    },
    {
      "cell_type": "markdown",
      "metadata": {
        "id": "K_4lpoYRVieR"
      },
      "source": [
        "### Dataloader\n",
        "For this model, I wrote a custom dataloader to crop each facial image, resize it to 224x224, and get keypoint coordinates. I also applied the same data augmentation transformations as in part 2."
      ]
    },
    {
      "cell_type": "code",
      "metadata": {
        "id": "BtdsqTIhUvSt"
      },
      "source": [
        "# Dataloader\n",
        "import xml.etree.ElementTree as ET \n",
        "import numpy as np\n",
        "import os \n",
        "\n",
        "tree = ET.parse('ibug_300W_large_face_landmark_dataset/labels_ibug_300W_train.xml')\n",
        "root = tree.getroot()\n",
        "root_dir = 'ibug_300W_large_face_landmark_dataset'\n",
        "\n",
        "bboxes = [] # face bounding box used to crop the image\n",
        "landmarks = [] # the facial keypoints/landmarks for the whole training dataset\n",
        "img_filenames = [] # the image names for the whole dataset\n",
        "\n",
        "for filename in root[2]:\n",
        "\timg_filenames.append(os.path.join(root_dir, filename.attrib['file']))\n",
        "\tbox = filename[0].attrib\n",
        "\t# x, y for the top left corner of the box, w, h for box width and height\n",
        "\tbboxes.append([box['left'], box['top'], box['width'], box['height']]) \n",
        "\n",
        "\tlandmark = []\n",
        "\tfor num in range(68):\n",
        "\t\tx_coordinate = int(filename[0][num].attrib['x'])\n",
        "\t\ty_coordinate = int(filename[0][num].attrib['y'])\n",
        "\t\tlandmark.append([x_coordinate, y_coordinate])\n",
        "\tlandmarks.append(landmark)\n",
        "\n",
        "landmarks = np.array(landmarks).astype('float32')     \n",
        "bboxes = np.array(bboxes).astype('float32')\n"
      ],
      "execution_count": 4,
      "outputs": []
    },
    {
      "cell_type": "code",
      "metadata": {
        "id": "h3lMVB6SscUN"
      },
      "source": [
        "for i in range(len(bboxes)):\n",
        "  xunit, yunit = 0.1 * bboxes[i][0], 0.1 * bboxes[i][1]\n",
        "  bboxes[i][0] -= xunit\n",
        "  bboxes[i][1] -= yunit\n",
        "  bboxes[i][2] += 2 * xunit\n",
        "  bboxes[i][3] += 2 * yunit"
      ],
      "execution_count": 33,
      "outputs": []
    },
    {
      "cell_type": "code",
      "metadata": {
        "id": "SVNR0fxiXDXs"
      },
      "source": [
        "# Actual Dataset for images, along with transformations for data augmentation\n",
        "import numpy as np\n",
        "import matplotlib.pyplot as plt\n",
        "from torch.utils.data import Dataset, DataLoader\n",
        "from torchvision import transforms, utils\n",
        "import torch\n",
        "import skimage\n",
        "from skimage import io as skio, transform\n",
        "import warnings\n",
        "# ignore warnings\n",
        "warnings.filterwarnings(\"ignore\")\n",
        "torch.manual_seed(69)\n",
        "\n",
        "class BigFaceDataset(Dataset):\n",
        "    def __init__(self, image_fnames, landmarks, bboxes, transform=None):\n",
        "        self.image_fnames = image_fnames[:]\n",
        "        self.landmarks = landmarks[:]\n",
        "        self.bboxes = bboxes[:]\n",
        "        self.transform = transform\n",
        "\n",
        "    def __len__(self):\n",
        "        return len(self.image_fnames)\n",
        "    \n",
        "    def __getitem__(self, idx):\n",
        "        if torch.is_tensor(idx):\n",
        "            idx = idx.to_list()\n",
        "        result = dict()\n",
        "        left, top, width, height = [int(pt) for pt in self.bboxes[idx]]\n",
        "        left = int(max(0, left - 0.1 * width))\n",
        "        top = int(max(0, top - 0.1 * height))\n",
        "        width = int(width * 1.2)\n",
        "        height = int(height * 1.2)\n",
        "        landmarks = torch.Tensor(self.landmarks[idx]).detach().clone()\n",
        "        landmarks[:, 0] = (landmarks[:, 0] - left) / width\n",
        "        landmarks[:, 1] = (landmarks[:, 1] - top) / height\n",
        "        image = skimage.color.rgb2gray(\n",
        "            skio.imread(self.image_fnames[idx]))[top:top + height, left:left + width]\n",
        "        image = transform.resize(image, (224, 224))\n",
        "        if self.transform:\n",
        "            image, landmarks = self.transform(image, landmarks)\n",
        "        result['landmarks'] = landmarks\n",
        "        result['image'] = torch.Tensor([image - 0.5])\n",
        "        return result\n",
        "\n",
        "# Define random transformations to augment the dataset and improve training robustness\n",
        "class JitterColors:\n",
        "    # Randomly jitter the brightness and saturation of an image\n",
        "    def __call__(self, image, landmarks):\n",
        "        return transforms.ColorJitter()(image), landmarks\n",
        "\n",
        "class RandomRotation:\n",
        "    def __init__(self, min_angle, max_angle):\n",
        "        self.min_angle = min_angle\n",
        "        self.max_angle = max_angle\n",
        "        \n",
        "    def __call__(self, image, landmarks):\n",
        "        degrees = np.random.randint(self.min_angle, self.max_angle + 1)\n",
        "        radians = -degrees * np.pi / 180.0\n",
        "        image = transform.rotate(image, degrees)\n",
        "        matrix = np.array([[np.cos(radians), -np.sin(radians)], [np.sin(radians), np.cos(radians)]])\n",
        "        landmarks = torch.Tensor((np.matmul(matrix, landmarks.numpy().T - 0.5)).T) + 0.5\n",
        "        return image, landmarks\n",
        "\n",
        "class RandomShift:\n",
        "    def __init__(self, min_px, max_px):\n",
        "        self.min_px = min_px\n",
        "        self.max_px = max_px\n",
        "    \n",
        "    def __call__(self, image, landmarks):\n",
        "        vertical = np.random.randint(self.min_px, self.max_px + 1)\n",
        "        horizontal = np.random.randint(self.min_px, self.max_px + 1)\n",
        "        image = np.roll(image, vertical, axis=0)\n",
        "        image = np.roll(image, horizontal, axis=1)\n",
        "        landmarks[:, 0] += horizontal/224.0\n",
        "        landmarks[:, 1] += vertical/224.0\n",
        "        return image, landmarks\n",
        "\n",
        "class RandomHorizontalFlip:\n",
        "    def __call__(self, image, landmarks):\n",
        "        if np.random.randint(0, 2) == 1:\n",
        "            image = image[:, ::-1]\n",
        "            landmarks = landmarks.detach().clone()\n",
        "            landmarks[:, 0] = 1 - landmarks[:, 0]\n",
        "        return image, landmarks\n",
        "    \n",
        "# Callable class combining the above transformations\n",
        "class AugmentData:\n",
        "    def __call__(self, image, landmarks):\n",
        "        for fn in [\n",
        "            JitterColors(),\n",
        "            RandomRotation(-15, 15),\n",
        "            RandomShift(-10, 10),\n",
        "            RandomHorizontalFlip()\n",
        "            ]:\n",
        "            image, landmarks = fn(image, landmarks)\n",
        "        return image, landmarks"
      ],
      "execution_count": 38,
      "outputs": []
    },
    {
      "cell_type": "code",
      "metadata": {
        "id": "qkpEfT9RXGyZ",
        "outputId": "20521051-9850-4e15-9765-b07d930b0448",
        "colab": {
          "base_uri": "https://localhost:8080/"
        }
      },
      "source": [
        "i = 1\n",
        "l, t, w, h = bboxes[i]\n",
        "print(t, t + h)\n",
        "print(np.min(landmarks[i][:, 0]), np.max(landmarks[i][:, 0]))\n",
        "print(l, l + w)\n",
        "print(np.min(landmarks[i][:, 1]), np.max(landmarks[i][:, 1]))"
      ],
      "execution_count": 39,
      "outputs": [
        {
          "output_type": "stream",
          "text": [
            "117.0 590.0\n",
            "97.0 575.0\n",
            "27.9 481.1\n",
            "150.0 600.0\n"
          ],
          "name": "stdout"
        }
      ]
    },
    {
      "cell_type": "code",
      "metadata": {
        "id": "e6t8vaXDZZIR"
      },
      "source": [
        "big_train_dataset = BigFaceDataset(img_filenames, landmarks, bboxes, transform=AugmentData())"
      ],
      "execution_count": 43,
      "outputs": []
    },
    {
      "cell_type": "code",
      "metadata": {
        "id": "2cT7FHuBcsCi",
        "outputId": "d2277f50-03ed-4a79-d6e5-75773de56b1e",
        "colab": {
          "base_uri": "https://localhost:8080/",
          "height": 269
        }
      },
      "source": [
        "entry = big_train_dataset[12]\n",
        "plt.imshow(entry['image'].squeeze(0), cmap='gray')\n",
        "for x, y in entry['landmarks']:\n",
        "  x, y = 224 * x, 224 * y\n",
        "  plt.plot(x, y, 'go', ms=3)"
      ],
      "execution_count": 44,
      "outputs": [
        {
          "output_type": "display_data",
          "data": {
            "image/png": "[encoded data removed]",
            "text/plain": [
              "<Figure size 432x288 with 1 Axes>"
            ]
          },
          "metadata": {
            "tags": [],
            "needs_background": "light"
          }
        }
      ]
    },
    {
      "cell_type": "code",
      "metadata": {
        "id": "QIkVY97pcvLm"
      },
      "source": [
        ""
      ],
      "execution_count": 8,
      "outputs": []
    }
  ]
}